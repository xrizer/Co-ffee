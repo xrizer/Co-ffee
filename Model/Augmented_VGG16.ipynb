{
  "cells": [
    {
      "cell_type": "code",
      "execution_count": 3,
      "metadata": {
        "id": "-R5uJoGyMnN-"
      },
      "outputs": [],
      "source": [
        "from tensorflow.keras.layers import Input, Lambda, Dense, Flatten,Dropout\n",
        "from tensorflow.keras.models import Model\n",
        "from tensorflow.keras.applications.vgg16 import VGG16\n",
        "from tensorflow.keras.applications.vgg16 import preprocess_input\n",
        "from tensorflow.keras.preprocessing import image\n",
        "from tensorflow.keras.preprocessing.image import ImageDataGenerator\n",
        "from tensorflow.keras.models import Sequential\n",
        "import numpy as np\n",
        "import pandas as pd\n",
        "import os\n",
        "import cv2\n",
        "import matplotlib.pyplot as plt"
      ]
    },
    {
      "cell_type": "code",
      "execution_count": 4,
      "metadata": {
        "id": "xu1PGsnDMnOA"
      },
      "outputs": [],
      "source": [
        "import tensorflow as tf\n",
        "from tensorflow import lite"
      ]
    },
    {
      "cell_type": "markdown",
      "source": [
        "# Connect to Google drive"
      ],
      "metadata": {
        "id": "eKyWR4zcVvu_"
      }
    },
    {
      "cell_type": "code",
      "source": [
        "from google.colab import drive\n",
        "drive.mount('/content/drive')"
      ],
      "metadata": {
        "colab": {
          "base_uri": "https://localhost:8080/"
        },
        "id": "_8jUXIiKMt6T",
        "outputId": "859a69f4-cd99-4ea4-c3e4-f6488d2006d8"
      },
      "execution_count": 5,
      "outputs": [
        {
          "output_type": "stream",
          "name": "stdout",
          "text": [
            "Mounted at /content/drive\n"
          ]
        }
      ]
    },
    {
      "cell_type": "markdown",
      "metadata": {
        "id": "QfgE-d8CMnOA"
      },
      "source": [
        "# Pre-processing of the images\n",
        "We will be training a VGG-19 model on our custom training dataset to classify among the 5 categories-Phoma, Cescospora, Rust, Healthy, and Miners. The dataset must all be resized to the required dimension.\n",
        "\n",
        "While resizing the images, let us also derive x_train,x_test,x_val,y_train,y_test and y_val hand-in-hand. These terms can be described in a nutshell as follows:\n",
        "\n",
        "- **x_train**: Numpy arrays of the images of the training dataset\n",
        "- **y_train**: Labels of the training dataset\n",
        "- **x_test**: Numpy arrays of the images of the testing dataset\n",
        "- **y_test**: Labels of the testing dataset\n",
        "- **x_val**: Numpy arrays of the images of the validation dataset\n",
        "- **y_val**: Labels of the validation dataset"
      ]
    },
    {
      "cell_type": "code",
      "execution_count": 6,
      "metadata": {
        "id": "kl2mIM3fMnOC"
      },
      "outputs": [],
      "source": [
        "# /content/drive/MyDrive/Capstone Co-ffee/Dataset3\n",
        "\n",
        "train_path=\"./drive/MyDrive/Capstone Co-ffee/Dataset3/train\"\n",
        "test_path=\"./drive/MyDrive/Capstone Co-ffee/Dataset3/test\"\n",
        "val_path=\"./drive/MyDrive/Capstone Co-ffee/Dataset3/val\""
      ]
    },
    {
      "cell_type": "code",
      "execution_count": 7,
      "metadata": {
        "id": "UrOCFfEcMnOC"
      },
      "outputs": [],
      "source": [
        "IMG_SIZE = (128,128)\n",
        "\n",
        "# def is_img_empty(img):\n",
        "#   if type(img) is np.ndarray:\n",
        "#     if img.size == 0:\n",
        "#       return True\n",
        "#   if img is None:\n",
        "#     return True\n",
        "\n",
        "# def pre_proc_images(file_path):\n",
        "#     file_list=[]\n",
        "#     for folder in os.listdir(file_path):\n",
        "#         sub_path=file_path+\"/\"+folder\n",
        "#         for img in os.listdir(sub_path):\n",
        "#             image_path=sub_path+\"/\"+img\n",
        "#             img_arr=cv2.imread(image_path)\n",
        "#             if is_img_empty(img_arr):\n",
        "#               print(f'This file is corrupt, You must delete this file:\\n{image_path}')\n",
        "#               continue\n",
        "#             img_arr=cv2.resize(img_arr,IMG_SIZE)\n",
        "#             file_list.append(img_arr)\n",
        "#     norm_file = np.array(file_list)/255.0\n",
        "#     return norm_file\n",
        "\n",
        "def ImgDataGen(file_path,f=True):\n",
        "    if f:    \n",
        "      file_datagen = ImageDataGenerator(\n",
        "                      rescale=1./255,\n",
        "                      rotation_range=30,\n",
        "                      horizontal_flip=True,\n",
        "                      width_shift_range = 0.2,\n",
        "                      height_shift_range = 0.2,\n",
        "                      shear_range = 0.1,\n",
        "                      #validation_split = 0.4,\n",
        "                      fill_mode = 'nearest'\n",
        "                      )\n",
        "    else:\n",
        "      file_datagen = ImageDataGenerator(rescale=1./255)\n",
        "  \n",
        "    file_set = file_datagen.flow_from_directory(file_path,\n",
        "                                                target_size = IMG_SIZE,\n",
        "                                                shuffle = f,\n",
        "                                                batch_size = 32,\n",
        "                                                class_mode = 'categorical')\n",
        "    return file_set\n"
      ]
    },
    {
      "cell_type": "code",
      "execution_count": 8,
      "metadata": {
        "colab": {
          "base_uri": "https://localhost:8080/"
        },
        "id": "rBv2XqjmMnOD",
        "outputId": "523fc940-16a2-4e7f-ed59-402172dfabe6"
      },
      "outputs": [
        {
          "output_type": "stream",
          "name": "stdout",
          "text": [
            "Found 8194 images belonging to 5 classes.\n",
            "Found 1175 images belonging to 5 classes.\n",
            "Found 2340 images belonging to 5 classes.\n"
          ]
        }
      ],
      "source": [
        "# train_x, test_x, val_x = pre_proc_images(train_path), pre_proc_images(test_path), pre_proc_images(val_path)\n",
        "training_set, test_set, val_set = ImgDataGen(train_path), ImgDataGen(test_path,f=False), ImgDataGen(val_path)"
      ]
    },
    {
      "cell_type": "code",
      "execution_count": 9,
      "metadata": {
        "colab": {
          "base_uri": "https://localhost:8080/"
        },
        "id": "vL04tNSZMnOD",
        "outputId": "35a3645c-4f61-47bb-b5f8-a129fe177593"
      },
      "outputs": [
        {
          "output_type": "execute_result",
          "data": {
            "text/plain": [
              "{'Cerscospora': 0, 'Healthy': 1, 'Leaf rust': 2, 'Miner': 3, 'Phoma': 4}"
            ]
          },
          "metadata": {},
          "execution_count": 9
        }
      ],
      "source": [
        "# train_y, test_y, val_y = training_set.classes, test_set.classes, val_set.classes\n",
        "# train_y.shape,test_y.shape,val_y.shape\n",
        "# train_x.shape,test_x.shape,val_x.shape\n",
        "training_set.class_indices"
      ]
    },
    {
      "cell_type": "markdown",
      "source": [
        "# Training using VGG16"
      ],
      "metadata": {
        "id": "4njNbSBpVXTX"
      }
    },
    {
      "cell_type": "code",
      "execution_count": 10,
      "metadata": {
        "colab": {
          "base_uri": "https://localhost:8080/"
        },
        "id": "0t6GTceVMnOG",
        "outputId": "fa0dce47-6f9d-45a4-a2aa-2b76e76f5baa"
      },
      "outputs": [
        {
          "output_type": "stream",
          "name": "stdout",
          "text": [
            "Downloading data from https://storage.googleapis.com/tensorflow/keras-applications/vgg16/vgg16_weights_tf_dim_ordering_tf_kernels_notop.h5\n",
            "58892288/58889256 [==============================] - 1s 0us/step\n",
            "58900480/58889256 [==============================] - 1s 0us/step\n"
          ]
        }
      ],
      "source": [
        "vgg = VGG16(input_shape= [128,128] + [3], weights='imagenet', include_top=False)"
      ]
    },
    {
      "cell_type": "code",
      "execution_count": 11,
      "metadata": {
        "id": "C5VLiqxGMnOH"
      },
      "outputs": [],
      "source": [
        "for layer in vgg.layers:\n",
        "    layer.trainable = False"
      ]
    },
    {
      "cell_type": "code",
      "execution_count": 12,
      "metadata": {
        "id": "r1deKPfcMnOH"
      },
      "outputs": [],
      "source": [
        "# our layers - you can add more if you want\n",
        "x = Flatten()(vgg.output)\n",
        "\n",
        "prediction = Dense(5, activation='softmax')(x)"
      ]
    },
    {
      "cell_type": "code",
      "execution_count": 13,
      "metadata": {
        "colab": {
          "base_uri": "https://localhost:8080/"
        },
        "id": "A1xr9DMPMnOH",
        "outputId": "6e20b7c4-aabf-4f85-e0fb-c69fdf94b31f"
      },
      "outputs": [
        {
          "output_type": "stream",
          "name": "stdout",
          "text": [
            "Model: \"model\"\n",
            "_________________________________________________________________\n",
            " Layer (type)                Output Shape              Param #   \n",
            "=================================================================\n",
            " input_1 (InputLayer)        [(None, 128, 128, 3)]     0         \n",
            "                                                                 \n",
            " block1_conv1 (Conv2D)       (None, 128, 128, 64)      1792      \n",
            "                                                                 \n",
            " block1_conv2 (Conv2D)       (None, 128, 128, 64)      36928     \n",
            "                                                                 \n",
            " block1_pool (MaxPooling2D)  (None, 64, 64, 64)        0         \n",
            "                                                                 \n",
            " block2_conv1 (Conv2D)       (None, 64, 64, 128)       73856     \n",
            "                                                                 \n",
            " block2_conv2 (Conv2D)       (None, 64, 64, 128)       147584    \n",
            "                                                                 \n",
            " block2_pool (MaxPooling2D)  (None, 32, 32, 128)       0         \n",
            "                                                                 \n",
            " block3_conv1 (Conv2D)       (None, 32, 32, 256)       295168    \n",
            "                                                                 \n",
            " block3_conv2 (Conv2D)       (None, 32, 32, 256)       590080    \n",
            "                                                                 \n",
            " block3_conv3 (Conv2D)       (None, 32, 32, 256)       590080    \n",
            "                                                                 \n",
            " block3_pool (MaxPooling2D)  (None, 16, 16, 256)       0         \n",
            "                                                                 \n",
            " block4_conv1 (Conv2D)       (None, 16, 16, 512)       1180160   \n",
            "                                                                 \n",
            " block4_conv2 (Conv2D)       (None, 16, 16, 512)       2359808   \n",
            "                                                                 \n",
            " block4_conv3 (Conv2D)       (None, 16, 16, 512)       2359808   \n",
            "                                                                 \n",
            " block4_pool (MaxPooling2D)  (None, 8, 8, 512)         0         \n",
            "                                                                 \n",
            " block5_conv1 (Conv2D)       (None, 8, 8, 512)         2359808   \n",
            "                                                                 \n",
            " block5_conv2 (Conv2D)       (None, 8, 8, 512)         2359808   \n",
            "                                                                 \n",
            " block5_conv3 (Conv2D)       (None, 8, 8, 512)         2359808   \n",
            "                                                                 \n",
            " block5_pool (MaxPooling2D)  (None, 4, 4, 512)         0         \n",
            "                                                                 \n",
            " flatten (Flatten)           (None, 8192)              0         \n",
            "                                                                 \n",
            " dense (Dense)               (None, 5)                 40965     \n",
            "                                                                 \n",
            "=================================================================\n",
            "Total params: 14,755,653\n",
            "Trainable params: 40,965\n",
            "Non-trainable params: 14,714,688\n",
            "_________________________________________________________________\n"
          ]
        }
      ],
      "source": [
        "# create a model object\n",
        "model = Model(inputs=vgg.input, outputs=prediction)\n",
        "\n",
        "# view the structure of the model\n",
        "model.summary()"
      ]
    },
    {
      "cell_type": "code",
      "execution_count": 14,
      "metadata": {
        "id": "JwBlyu0NMnOH"
      },
      "outputs": [],
      "source": [
        "# tell the model what cost and optimization method to use\n",
        "model.compile(\n",
        "  loss='categorical_crossentropy',\n",
        "  optimizer=\"adam\",\n",
        "  metrics=['accuracy']\n",
        ")"
      ]
    },
    {
      "cell_type": "code",
      "execution_count": 15,
      "metadata": {
        "id": "sivofTt0MnOI"
      },
      "outputs": [],
      "source": [
        "from tensorflow.keras.callbacks import EarlyStopping\n",
        "early_stop=EarlyStopping(monitor='val_loss',mode='min',verbose=1,patience=5)\n",
        "\n",
        "#Early stopping to avoid overfitting of model"
      ]
    },
    {
      "cell_type": "code",
      "execution_count": 16,
      "metadata": {
        "colab": {
          "base_uri": "https://localhost:8080/"
        },
        "id": "g9DpfHCBMnOI",
        "outputId": "ebb29854-b45c-46a4-b2ef-8b0c3700a918"
      },
      "outputs": [
        {
          "output_type": "stream",
          "name": "stdout",
          "text": [
            "Epoch 1/20\n",
            "257/257 [==============================] - 1503s 6s/step - loss: 0.2710 - accuracy: 0.9131 - val_loss: 0.1201 - val_accuracy: 0.9654\n",
            "Epoch 2/20\n",
            "257/257 [==============================] - 61s 237ms/step - loss: 0.1042 - accuracy: 0.9721 - val_loss: 0.0764 - val_accuracy: 0.9795\n",
            "Epoch 3/20\n",
            "257/257 [==============================] - 60s 234ms/step - loss: 0.0681 - accuracy: 0.9824 - val_loss: 0.0634 - val_accuracy: 0.9855\n",
            "Epoch 4/20\n",
            "257/257 [==============================] - 61s 236ms/step - loss: 0.0597 - accuracy: 0.9841 - val_loss: 0.0418 - val_accuracy: 0.9936\n",
            "Epoch 5/20\n",
            "257/257 [==============================] - 60s 234ms/step - loss: 0.0501 - accuracy: 0.9863 - val_loss: 0.0391 - val_accuracy: 0.9906\n",
            "Epoch 6/20\n",
            "257/257 [==============================] - 60s 233ms/step - loss: 0.0371 - accuracy: 0.9900 - val_loss: 0.0374 - val_accuracy: 0.9885\n",
            "Epoch 7/20\n",
            "257/257 [==============================] - 61s 236ms/step - loss: 0.0332 - accuracy: 0.9918 - val_loss: 0.0268 - val_accuracy: 0.9927\n",
            "Epoch 8/20\n",
            "257/257 [==============================] - 60s 233ms/step - loss: 0.0303 - accuracy: 0.9917 - val_loss: 0.0196 - val_accuracy: 0.9966\n",
            "Epoch 9/20\n",
            "257/257 [==============================] - 60s 233ms/step - loss: 0.0263 - accuracy: 0.9935 - val_loss: 0.0341 - val_accuracy: 0.9897\n",
            "Epoch 10/20\n",
            "257/257 [==============================] - 60s 234ms/step - loss: 0.0270 - accuracy: 0.9922 - val_loss: 0.0219 - val_accuracy: 0.9940\n",
            "Epoch 11/20\n",
            "257/257 [==============================] - 64s 249ms/step - loss: 0.0217 - accuracy: 0.9945 - val_loss: 0.0122 - val_accuracy: 0.9974\n",
            "Epoch 12/20\n",
            "257/257 [==============================] - 61s 236ms/step - loss: 0.0255 - accuracy: 0.9921 - val_loss: 0.0201 - val_accuracy: 0.9940\n",
            "Epoch 13/20\n",
            "257/257 [==============================] - 59s 231ms/step - loss: 0.0193 - accuracy: 0.9949 - val_loss: 0.0145 - val_accuracy: 0.9953\n",
            "Epoch 14/20\n",
            "257/257 [==============================] - 60s 232ms/step - loss: 0.0171 - accuracy: 0.9944 - val_loss: 0.0118 - val_accuracy: 0.9983\n",
            "Epoch 15/20\n",
            "257/257 [==============================] - 60s 232ms/step - loss: 0.0150 - accuracy: 0.9966 - val_loss: 0.0091 - val_accuracy: 0.9991\n",
            "Epoch 16/20\n",
            "257/257 [==============================] - 59s 231ms/step - loss: 0.0171 - accuracy: 0.9951 - val_loss: 0.0172 - val_accuracy: 0.9953\n",
            "Epoch 17/20\n",
            "257/257 [==============================] - 60s 235ms/step - loss: 0.0147 - accuracy: 0.9954 - val_loss: 0.0073 - val_accuracy: 0.9991\n",
            "Epoch 18/20\n",
            "257/257 [==============================] - 60s 233ms/step - loss: 0.0125 - accuracy: 0.9969 - val_loss: 0.0144 - val_accuracy: 0.9962\n",
            "Epoch 19/20\n",
            "257/257 [==============================] - 60s 233ms/step - loss: 0.0093 - accuracy: 0.9980 - val_loss: 0.0158 - val_accuracy: 0.9936\n",
            "Epoch 20/20\n",
            "257/257 [==============================] - 60s 233ms/step - loss: 0.0129 - accuracy: 0.9960 - val_loss: 0.0084 - val_accuracy: 0.9979\n"
          ]
        }
      ],
      "source": [
        "# fit the model\n",
        "history = model.fit(\n",
        "  training_set,\n",
        "  validation_data=val_set,\n",
        "  epochs=20,\n",
        "  callbacks=[early_stop],\n",
        "  batch_size=32,shuffle=True)"
      ]
    },
    {
      "cell_type": "code",
      "execution_count": 17,
      "metadata": {
        "colab": {
          "base_uri": "https://localhost:8080/",
          "height": 265
        },
        "id": "InrwUaLjMnOJ",
        "outputId": "f5b707b0-7207-452b-e0c9-dc66d5c74ba2"
      },
      "outputs": [
        {
          "output_type": "display_data",
          "data": {
            "text/plain": [
              "<Figure size 432x288 with 1 Axes>"
            ],
            "image/png": "[encoded data removed]"
          },
          "metadata": {
            "needs_background": "light"
          }
        }
      ],
      "source": [
        "# loss\n",
        "plt.plot(history.history['loss'], label='train loss')\n",
        "plt.plot(history.history['val_loss'], label='val loss')\n",
        "plt.legend()\n",
        "\n",
        "plt.savefig('vgg-loss-rps-1.png')\n",
        "plt.show()"
      ]
    },
    {
      "cell_type": "code",
      "execution_count": 18,
      "metadata": {
        "colab": {
          "base_uri": "https://localhost:8080/",
          "height": 265
        },
        "id": "-RJylKMiMnOJ",
        "outputId": "2536c030-cb7c-46a4-a0d1-1d2abd5a7f7d"
      },
      "outputs": [
        {
          "output_type": "display_data",
          "data": {
            "text/plain": [
              "<Figure size 432x288 with 1 Axes>"
            ],
            "image/png": "[encoded data removed]"
          },
          "metadata": {
            "needs_background": "light"
          }
        }
      ],
      "source": [
        "# accuracies\n",
        "plt.plot(history.history['accuracy'], label='train acc')\n",
        "plt.plot(history.history['val_accuracy'], label='val acc')\n",
        "plt.legend()\n",
        "\n",
        "plt.savefig('vgg-acc-rps-1.png')\n",
        "plt.show()"
      ]
    },
    {
      "cell_type": "code",
      "execution_count": 19,
      "metadata": {
        "colab": {
          "base_uri": "https://localhost:8080/"
        },
        "id": "NbUyuP6KMnOK",
        "outputId": "3cd3a6dc-dd91-4a6c-a12e-147aff35b29e"
      },
      "outputs": [
        {
          "output_type": "stream",
          "name": "stdout",
          "text": [
            "37/37 [==============================] - 198s 5s/step - loss: 0.0056 - accuracy: 0.9983\n"
          ]
        },
        {
          "output_type": "execute_result",
          "data": {
            "text/plain": [
              "[0.00564358476549387, 0.9982978701591492]"
            ]
          },
          "metadata": {},
          "execution_count": 19
        }
      ],
      "source": [
        "model.evaluate(test_set,batch_size=32)"
      ]
    },
    {
      "cell_type": "code",
      "execution_count": 20,
      "metadata": {
        "id": "I4TIAJztMnOK"
      },
      "outputs": [],
      "source": [
        "from sklearn.metrics import accuracy_score,classification_report,confusion_matrix,ConfusionMatrixDisplay\n",
        "import numpy as np"
      ]
    },
    {
      "cell_type": "code",
      "execution_count": 21,
      "metadata": {
        "colab": {
          "base_uri": "https://localhost:8080/"
        },
        "id": "EEwsyiXfMnOK",
        "outputId": "e21f6cfd-07ab-445f-d65d-78b35505684b"
      },
      "outputs": [
        {
          "output_type": "execute_result",
          "data": {
            "text/plain": [
              "0.9982978723404256"
            ]
          },
          "metadata": {},
          "execution_count": 21
        }
      ],
      "source": [
        "y_pred=model.predict(test_set)\n",
        "y_pred=np.argmax(y_pred,axis=1)\n",
        "accuracy_score(y_pred,test_set.classes)\n"
      ]
    },
    {
      "cell_type": "code",
      "source": [
        "print(classification_report(y_pred,test_set.classes))\n",
        "\n",
        "cm = confusion_matrix(y_pred,test_set.classes)\n",
        "disp = ConfusionMatrixDisplay(cm)\n",
        "disp.plot()\n",
        "plt.show()\n",
        "print(test_set.class_indices)"
      ],
      "metadata": {
        "colab": {
          "base_uri": "https://localhost:8080/",
          "height": 505
        },
        "id": "WTqy0KkFipNO",
        "outputId": "b1b4482a-2320-466d-850a-faaba6f1e016"
      },
      "execution_count": 22,
      "outputs": [
        {
          "output_type": "stream",
          "name": "stdout",
          "text": [
            "              precision    recall  f1-score   support\n",
            "\n",
            "           0       1.00      1.00      1.00       154\n",
            "           1       1.00      1.00      1.00       380\n",
            "           2       1.00      1.00      1.00       168\n",
            "           3       1.00      0.99      1.00       342\n",
            "           4       0.98      1.00      0.99       131\n",
            "\n",
            "    accuracy                           1.00      1175\n",
            "   macro avg       1.00      1.00      1.00      1175\n",
            "weighted avg       1.00      1.00      1.00      1175\n",
            "\n"
          ]
        },
        {
          "output_type": "display_data",
          "data": {
            "text/plain": [
              "<Figure size 432x288 with 2 Axes>"
            ],
            "image/png": "[encoded data removed]"
          },
          "metadata": {
            "needs_background": "light"
          }
        },
        {
          "output_type": "stream",
          "name": "stdout",
          "text": [
            "{'Cerscospora': 0, 'Healthy': 1, 'Leaf rust': 2, 'Miner': 3, 'Phoma': 4}\n"
          ]
        }
      ]
    },
    {
      "cell_type": "markdown",
      "metadata": {
        "id": "9Q7LoteSMnOL"
      },
      "source": [
        "# Export the Model"
      ]
    },
    {
      "cell_type": "markdown",
      "source": [
        "Save model"
      ],
      "metadata": {
        "id": "BWtFwGzEHMRF"
      }
    },
    {
      "cell_type": "code",
      "execution_count": 23,
      "metadata": {
        "colab": {
          "base_uri": "https://localhost:8080/"
        },
        "id": "yQTxJdmoMnOL",
        "outputId": "061784f2-4052-44ad-9d1f-294136a44395"
      },
      "outputs": [
        {
          "output_type": "stream",
          "name": "stdout",
          "text": [
            "INFO:tensorflow:Assets written to: /tmp/tmptnwrj3qg/assets\n"
          ]
        },
        {
          "output_type": "stream",
          "name": "stderr",
          "text": [
            "WARNING:absl:Buffer deduplication procedure will be skipped when flatbuffer library is not properly loaded\n"
          ]
        },
        {
          "output_type": "execute_result",
          "data": {
            "text/plain": [
              "59030532"
            ]
          },
          "metadata": {},
          "execution_count": 23
        }
      ],
      "source": [
        "keras_file = \"Augmented_VGG16.h5\"\n",
        "tf.keras.models.save_model(model,keras_file)\n",
        "converter = lite.TFLiteConverter.from_keras_model(model)\n",
        "tfmodel = converter.convert()\n",
        "\n",
        "open(\"Augmented_VGG16.tflite\",\"wb\").write(tfmodel)"
      ]
    },
    {
      "cell_type": "markdown",
      "source": [
        "Save history"
      ],
      "metadata": {
        "id": "34C9D2WVHI3c"
      }
    },
    {
      "cell_type": "code",
      "source": [
        "# convert the history.history dict to a pandas DataFrame:     \n",
        "hist_df = pd.DataFrame(history.history) \n",
        "\n",
        "# save to json:  \n",
        "hist_json_file = 'history.json' \n",
        "with open(hist_json_file, mode='w') as f:\n",
        "    hist_df.to_json(f)\n",
        "\n",
        "# or save to csv: \n",
        "hist_csv_file = 'history.csv'\n",
        "with open(hist_csv_file, mode='w') as f:\n",
        "    hist_df.to_csv(f)"
      ],
      "metadata": {
        "id": "ZgNTaI-0G9o1"
      },
      "execution_count": 25,
      "outputs": []
    },
    {
      "cell_type": "markdown",
      "source": [
        "save to google drive"
      ],
      "metadata": {
        "id": "HFFDF1pD1GPx"
      }
    },
    {
      "cell_type": "code",
      "source": [
        "save_path = \"./drive/MyDrive/Capstone Co-ffee/\"\n",
        "!cp -r './Augmented_VGG16.h5' save_path\n",
        "!cp -r './Augmented_VGG16.tflite' save_path"
      ],
      "metadata": {
        "id": "QQCRiy2_1JB5"
      },
      "execution_count": 24,
      "outputs": []
    }
  ],
  "metadata": {
    "interpreter": {
      "hash": "f86d353589da63107fa41935c647b090130dd82e36124730776efe65677d465c"
    },
    "kernelspec": {
      "display_name": "Python 3.10.2 64-bit",
      "language": "python",
      "name": "python3"
    },
    "language_info": {
      "codemirror_mode": {
        "name": "ipython",
        "version": 3
      },
      "file_extension": ".py",
      "mimetype": "text/x-python",
      "name": "python",
      "nbconvert_exporter": "python",
      "pygments_lexer": "ipython3",
      "version": "3.10.2"
    },
    "orig_nbformat": 4,
    "colab": {
      "name": "Desease_control.ipynb",
      "provenance": []
    },
    "accelerator": "GPU"
  },
  "nbformat": 4,
  "nbformat_minor": 0
}