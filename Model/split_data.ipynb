{
 "cells": [
  {
   "cell_type": "code",
   "execution_count": 17,
   "metadata": {},
   "outputs": [],
   "source": [
    "\"\"\"\n",
    "pip install split-folders\n",
    "\"\"\"\n",
    "\n",
    "import splitfolders  # or import split_folders\n",
    "\n",
    "input_folder = './Dataset3/val'\n",
    "\n",
    "# Split with a ratio.\n",
    "# To only split into training and validation set, set a tuple to `ratio`, i.e, `(.8, .2)`.\n",
    "#Train, val, test\n",
    "splitfolders.ratio(input_folder, output=\"Dataset4\", \n",
    "                   seed=42, ratio=(.7, .2, .1), \n",
    "                   group_prefix=None) # default values\n",
    "\n",
    "\n"
   ]
  },
  {
   "cell_type": "code",
   "execution_count": 18,
   "metadata": {},
   "outputs": [],
   "source": [
    "BASE_DATASET_PATH = './Dataset4'"
   ]
  },
  {
   "cell_type": "code",
   "execution_count": 19,
   "metadata": {},
   "outputs": [
    {
     "name": "stdout",
     "output_type": "stream",
     "text": [
      "./Dataset4\\test\n",
      "Cerscospora folder has 32 pictures\n",
      "Healthy folder has 77 pictures\n",
      "Leaf rust folder has 34 pictures\n",
      "Miner folder has 69 pictures\n",
      "Phoma folder has 27 pictures\n",
      "\n",
      "There are 239 pictures in total\n",
      "\n",
      "./Dataset4\\train\n",
      "Cerscospora folder has 214 pictures\n",
      "Healthy folder has 531 pictures\n",
      "Leaf rust folder has 233 pictures\n",
      "Miner folder has 475 pictures\n",
      "Phoma folder has 183 pictures\n",
      "\n",
      "There are 1636 pictures in total\n",
      "\n",
      "./Dataset4\\val\n",
      "Cerscospora folder has 61 pictures\n",
      "Healthy folder has 151 pictures\n",
      "Leaf rust folder has 66 pictures\n",
      "Miner folder has 135 pictures\n",
      "Phoma folder has 52 pictures\n",
      "\n",
      "There are 465 pictures in total\n",
      "\n",
      "\n",
      "There are 2340 pictures in total\n"
     ]
    }
   ],
   "source": [
    "num_files2 = 0\n",
    "\n",
    "for folder in os.listdir(BASE_DATASET_PATH):\n",
    "    files_path = os.path.join(BASE_DATASET_PATH, folder)\n",
    "    files = os.listdir(files_path)\n",
    "    print(files_path)\n",
    "    num_files = 0\n",
    "    for folder2 in os.listdir(files_path):\n",
    "        files = os.listdir(os.path.join(files_path, folder2))\n",
    "        # Calculate num files for image every folder\n",
    "        print(\"{} folder has {} pictures\".format(folder2, len(files)))\n",
    "        num_files += len(files)\n",
    "    print(\"\\nThere are {} pictures in total\\n\".format(num_files))\n",
    "    num_files2 += num_files\n",
    "print(f\"\\nThere are {num_files2} pictures in total\")\n",
    "\n"
   ]
  },
  {
   "cell_type": "code",
   "execution_count": 5,
   "metadata": {},
   "outputs": [
    {
     "ename": "TypeError",
     "evalue": "listdir: path should be string, bytes, os.PathLike or None, not list",
     "output_type": "error",
     "traceback": [
      "\u001b[1;31m---------------------------------------------------------------------------\u001b[0m",
      "\u001b[1;31mTypeError\u001b[0m                                 Traceback (most recent call last)",
      "\u001b[1;32md:\\ARSYA\\Bangkit 2022\\Co-ffee.AI\\Split_data.ipynb Cell 4'\u001b[0m in \u001b[0;36m<cell line: 1>\u001b[1;34m()\u001b[0m\n\u001b[1;32m----> <a href='vscode-notebook-cell:/d%3A/ARSYA/Bangkit%202022/Co-ffee.AI/Split_data.ipynb#ch0000004?line=0'>1</a>\u001b[0m explore_dataset(BASE_DATASET_PATH)\n",
      "\u001b[1;32md:\\ARSYA\\Bangkit 2022\\Co-ffee.AI\\Split_data.ipynb Cell 3'\u001b[0m in \u001b[0;36mexplore_dataset\u001b[1;34m(BASE_DATASET_PATH)\u001b[0m\n\u001b[0;32m      <a href='vscode-notebook-cell:/d%3A/ARSYA/Bangkit%202022/Co-ffee.AI/Split_data.ipynb#ch0000003?line=3'>4</a>\u001b[0m files \u001b[39m=\u001b[39m os\u001b[39m.\u001b[39mlistdir(os\u001b[39m.\u001b[39mpath\u001b[39m.\u001b[39mjoin(BASE_DATASET_PATH, folder))\n\u001b[0;32m      <a href='vscode-notebook-cell:/d%3A/ARSYA/Bangkit%202022/Co-ffee.AI/Split_data.ipynb#ch0000003?line=4'>5</a>\u001b[0m num_files \u001b[39m=\u001b[39m \u001b[39m0\u001b[39m\n\u001b[1;32m----> <a href='vscode-notebook-cell:/d%3A/ARSYA/Bangkit%202022/Co-ffee.AI/Split_data.ipynb#ch0000003?line=5'>6</a>\u001b[0m \u001b[39mfor\u001b[39;00m folder2 \u001b[39min\u001b[39;00m os\u001b[39m.\u001b[39;49mlistdir(files):\n\u001b[0;32m      <a href='vscode-notebook-cell:/d%3A/ARSYA/Bangkit%202022/Co-ffee.AI/Split_data.ipynb#ch0000003?line=6'>7</a>\u001b[0m     files2 \u001b[39m=\u001b[39m os\u001b[39m.\u001b[39mlistdir(os\u001b[39m.\u001b[39mpath\u001b[39m.\u001b[39mjoin(files, folder2))\n\u001b[0;32m      <a href='vscode-notebook-cell:/d%3A/ARSYA/Bangkit%202022/Co-ffee.AI/Split_data.ipynb#ch0000003?line=7'>8</a>\u001b[0m     \u001b[39mprint\u001b[39m(\u001b[39m\"\u001b[39m\u001b[39m{}\u001b[39;00m\u001b[39m folder has \u001b[39m\u001b[39m{}\u001b[39;00m\u001b[39m pictures\u001b[39m\u001b[39m\"\u001b[39m\u001b[39m.\u001b[39mformat(folder, \u001b[39mlen\u001b[39m(files2)))\n",
      "\u001b[1;31mTypeError\u001b[0m: listdir: path should be string, bytes, os.PathLike or None, not list"
     ]
    }
   ],
   "source": [
    "explore_dataset(BASE_DATASET_PATH)"
   ]
  }
 ],
 "metadata": {
  "interpreter": {
   "hash": "f86d353589da63107fa41935c647b090130dd82e36124730776efe65677d465c"
  },
  "kernelspec": {
   "display_name": "Python 3.10.2 64-bit",
   "language": "python",
   "name": "python3"
  },
  "language_info": {
   "codemirror_mode": {
    "name": "ipython",
    "version": 3
   },
   "file_extension": ".py",
   "mimetype": "text/x-python",
   "name": "python",
   "nbconvert_exporter": "python",
   "pygments_lexer": "ipython3",
   "version": "3.10.2"
  },
  "orig_nbformat": 4
 },
 "nbformat": 4,
 "nbformat_minor": 2
}
